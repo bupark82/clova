{
 "cells": [
  {
   "cell_type": "code",
   "execution_count": 1,
   "id": "b1d34ac5-6636-41f7-b319-97f4e8332409",
   "metadata": {},
   "outputs": [
    {
     "name": "stdout",
     "output_type": "stream",
     "text": [
      "What’s the best Italian restaurant in the area?\n",
      "이 지역에서 가장 좋은 이탈리아 식당은 무엇입니까?\n"
     ]
    }
   ],
   "source": [
    "# -*- coding: utf-8 -*-\n",
    "\n",
    "import base64\n",
    "import json\n",
    "import http.client\n",
    "\n",
    "\n",
    "class CompletionExecutor:\n",
    "    def __init__(self, host, api_key, api_key_primary_val, request_id):\n",
    "        self._host = host\n",
    "        self._api_key = api_key\n",
    "        self._api_key_primary_val = api_key_primary_val\n",
    "        self._request_id = request_id\n",
    "\n",
    "    def _send_request(self, completion_request):\n",
    "        headers = {\n",
    "            'Content-Type': 'application/json; charset=utf-8',\n",
    "            'X-NCP-CLOVASTUDIO-API-KEY': self._api_key,\n",
    "            'X-NCP-APIGW-API-KEY': self._api_key_primary_val,\n",
    "            'X-NCP-CLOVASTUDIO-REQUEST-ID': self._request_id\n",
    "        }\n",
    "\n",
    "        conn = http.client.HTTPSConnection(self._host)\n",
    "        conn.request('POST', '/testapp/v1/tasks/pxzh1m8e/completions/LK-D2', json.dumps(completion_request), headers)\n",
    "        response = conn.getresponse()\n",
    "        result = json.loads(response.read().decode(encoding='utf-8'))\n",
    "        conn.close()\n",
    "        return result\n",
    "\n",
    "    def execute(self, completion_request):\n",
    "        res = self._send_request(completion_request)\n",
    "        if res['status']['code'] == '20000':\n",
    "            return res['result']['text']\n",
    "        else:\n",
    "            return 'Error'\n",
    "\n",
    "\n",
    "if __name__ == '__main__':\n",
    "    completion_executor = CompletionExecutor(\n",
    "        host='clovastudio.apigw.ntruss.com',\n",
    "        api_key='NTA0MjU2MWZlZTcxNDJiY8bgqsVoctv+mOvDVCPKIbeIzleehOJ0PFHPDWDrQeeBd0U4UBvStqpolma41NdW2RkQFNRLllWJEFoam6j5xJkyBLsL3qpg8XeSnVdXth16ewswmdHvMSTh/kpl+Ld+h2zAFo+FPSouOWwJ9GFHQwoOgIjIEeqDF3TJF/zWkrJ+OmG0VDxX3DtHodhhjaAHjA==',\n",
    "        api_key_primary_val = 'iS0DmwyAs4PtIUjdFeWTDADlNGNp4XZpggHPyUuX',\n",
    "        request_id='7854d50439854461b3464a3e6127ce5e'\n",
    "    )\n",
    "\n",
    "    preset_text = 'What’s the best Italian restaurant in the area?'\n",
    "\n",
    "    request_data = {\n",
    "        'text': preset_text,\n",
    "        'maxTokens': 300,\n",
    "        'temperature': 0.85,\n",
    "        'topK': 4,\n",
    "        'topP': 0.8,\n",
    "        'repeatPenalty': 5.0,\n",
    "        'start': '',\n",
    "        'restart': '',\n",
    "        'stopBefore': ['<|endoftext|>'],\n",
    "        'includeTokens': False,\n",
    "        'includeAiFilters': True,\n",
    "        'includeProbs': False\n",
    "    }\n",
    "\n",
    "    response_text = completion_executor.execute(request_data)\n",
    "    print(preset_text)\n",
    "    print(response_text)\n"
   ]
  }
 ],
 "metadata": {
  "kernelspec": {
   "display_name": "Python 3",
   "language": "python",
   "name": "python3"
  },
  "language_info": {
   "codemirror_mode": {
    "name": "ipython",
    "version": 3
   },
   "file_extension": ".py",
   "mimetype": "text/x-python",
   "name": "python",
   "nbconvert_exporter": "python",
   "pygments_lexer": "ipython3",
   "version": "3.6.9"
  }
 },
 "nbformat": 4,
 "nbformat_minor": 5
}
