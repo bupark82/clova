{
 "cells": [
  {
   "cell_type": "markdown",
   "id": "c003bd8a",
   "metadata": {},
   "source": [
    "### 파이썬 코드 "
   ]
  },
  {
   "cell_type": "code",
   "execution_count": 1,
   "id": "8f6d55dd",
   "metadata": {},
   "outputs": [
    {
     "data": {
      "text/plain": [
       "True"
      ]
     },
     "execution_count": 1,
     "metadata": {},
     "output_type": "execute_result"
    }
   ],
   "source": [
    "import os\n",
    "from dotenv import load_dotenv\n",
    "load_dotenv() # load environment variables from .env file"
   ]
  },
  {
   "cell_type": "code",
   "execution_count": 2,
   "id": "86f7a262",
   "metadata": {},
   "outputs": [
    {
     "name": "stdout",
     "output_type": "stream",
     "text": [
      "5억원 무이자 융자는 되고 7천만원 이사비는 안된다\n",
      "사회\n"
     ]
    }
   ],
   "source": [
    "# -*- coding: utf-8 -*-\n",
    "\n",
    "import base64\n",
    "import json\n",
    "import http.client\n",
    "\n",
    "\n",
    "class CompletionExecutor:\n",
    "    def __init__(self, host, api_key, api_key_primary_val, request_id):\n",
    "        self._host = host\n",
    "        self._api_key = api_key\n",
    "        self._api_key_primary_val = api_key_primary_val\n",
    "        self._request_id = request_id\n",
    "\n",
    "    def _send_request(self, completion_request):\n",
    "        headers = {\n",
    "            'Content-Type': 'application/json; charset=utf-8',\n",
    "            'X-NCP-CLOVASTUDIO-API-KEY': self._api_key,\n",
    "            'X-NCP-APIGW-API-KEY': self._api_key_primary_val,\n",
    "            'X-NCP-CLOVASTUDIO-REQUEST-ID': self._request_id\n",
    "        }\n",
    "\n",
    "        conn = http.client.HTTPSConnection(self._host)\n",
    "        conn.request('POST', '/testapp/v1/tasks/00v4sxbx/search', json.dumps(completion_request), headers)\n",
    "        response = conn.getresponse()\n",
    "        result = json.loads(response.read().decode(encoding='utf-8'))\n",
    "        conn.close()\n",
    "        return result\n",
    "\n",
    "    def execute(self, completion_request):\n",
    "        res = self._send_request(completion_request)\n",
    "        if res['status']['code'] == '20000':\n",
    "            return res['result']['outputText']\n",
    "        else:\n",
    "            return 'Error'\n",
    "\n",
    "\n",
    "if __name__ == '__main__':\n",
    "    completion_executor = CompletionExecutor(\n",
    "        host='clovastudio.apigw.ntruss.com',\n",
    "        api_key = os.environ[\"API_KEY\"],\n",
    "        api_key_primary_val = os.environ[\"API_KEY_PRIMARY_VAL\"],\n",
    "        request_id = os.environ[\"REQUEST_ID\"]\n",
    "    )\n",
    "\n",
    "    # preset_text = 'input text'\n",
    "    preset_text = '5억원 무이자 융자는 되고 7천만원 이사비는 안된다'\n",
    "\n",
    "    request_data = {\n",
    "        'text': preset_text,\n",
    "        'includeAiFilters': True\n",
    "    }\n",
    "\n",
    "    response_text = completion_executor.execute(request_data)\n",
    "    print(preset_text)\n",
    "    print(response_text)\n"
   ]
  },
  {
   "cell_type": "markdown",
   "id": "5b82e4f0",
   "metadata": {},
   "source": [
    "### API URL"
   ]
  },
  {
   "cell_type": "code",
   "execution_count": null,
   "id": "6ee611d5",
   "metadata": {},
   "outputs": [],
   "source": [
    "https://clovastudio.apigw.ntruss.com/testapp/v1/tasks/00v4sxbx/search"
   ]
  }
 ],
 "metadata": {
  "kernelspec": {
   "display_name": "myenv",
   "language": "python",
   "name": "python3"
  },
  "language_info": {
   "codemirror_mode": {
    "name": "ipython",
    "version": 3
   },
   "file_extension": ".py",
   "mimetype": "text/x-python",
   "name": "python",
   "nbconvert_exporter": "python",
   "pygments_lexer": "ipython3",
   "version": "3.9.16"
  }
 },
 "nbformat": 4,
 "nbformat_minor": 5
}
